{
 "cells": [
  {
   "cell_type": "code",
   "execution_count": 1,
   "id": "afb60f90",
   "metadata": {},
   "outputs": [
    {
     "name": "stdout",
     "output_type": "stream",
     "text": [
      "showing info https://raw.githubusercontent.com/nltk/nltk_data/gh-pages/index.xml\n"
     ]
    },
    {
     "data": {
      "text/plain": [
       "True"
      ]
     },
     "execution_count": 1,
     "metadata": {},
     "output_type": "execute_result"
    }
   ],
   "source": [
    "import os\n",
    "import nltk \n",
    "nltk.download()"
   ]
  },
  {
   "cell_type": "code",
   "execution_count": 2,
   "id": "d8082d65",
   "metadata": {},
   "outputs": [],
   "source": [
    "AI=\"Artificial intelligence (AI), in its broadest sense, is intelligence exhibited by machines, particularly computer systems. It is a field of research in computer science that develops and studies methods and software that enable machines to perceive their environment and uses learning and intelligence to take actions that maximize their chances of achieving defined goals.[1] Such machines may be called AIs.\""
   ]
  },
  {
   "cell_type": "code",
   "execution_count": 3,
   "id": "8dc255f5",
   "metadata": {},
   "outputs": [
    {
     "data": {
      "text/plain": [
       "'Artificial intelligence (AI), in its broadest sense, is intelligence exhibited by machines, particularly computer systems. It is a field of research in computer science that develops and studies methods and software that enable machines to perceive their environment and uses learning and intelligence to take actions that maximize their chances of achieving defined goals.[1] Such machines may be called AIs.'"
      ]
     },
     "execution_count": 3,
     "metadata": {},
     "output_type": "execute_result"
    }
   ],
   "source": [
    "AI"
   ]
  },
  {
   "cell_type": "code",
   "execution_count": 4,
   "id": "305b5a57",
   "metadata": {},
   "outputs": [
    {
     "data": {
      "text/plain": [
       "str"
      ]
     },
     "execution_count": 4,
     "metadata": {},
     "output_type": "execute_result"
    }
   ],
   "source": [
    "type(AI)"
   ]
  },
  {
   "cell_type": "code",
   "execution_count": 5,
   "id": "1ec4c77e",
   "metadata": {},
   "outputs": [],
   "source": [
    "    from nltk.tokenize import word_tokenize\n"
   ]
  },
  {
   "cell_type": "code",
   "execution_count": 6,
   "id": "c10fb312",
   "metadata": {},
   "outputs": [],
   "source": [
    "AI_tokens=word_tokenize(AI)"
   ]
  },
  {
   "cell_type": "code",
   "execution_count": 7,
   "id": "5f5fa760",
   "metadata": {},
   "outputs": [
    {
     "data": {
      "text/plain": [
       "['Artificial',\n",
       " 'intelligence',\n",
       " '(',\n",
       " 'AI',\n",
       " ')',\n",
       " ',',\n",
       " 'in',\n",
       " 'its',\n",
       " 'broadest',\n",
       " 'sense',\n",
       " ',',\n",
       " 'is',\n",
       " 'intelligence',\n",
       " 'exhibited',\n",
       " 'by',\n",
       " 'machines',\n",
       " ',',\n",
       " 'particularly',\n",
       " 'computer',\n",
       " 'systems',\n",
       " '.',\n",
       " 'It',\n",
       " 'is',\n",
       " 'a',\n",
       " 'field',\n",
       " 'of',\n",
       " 'research',\n",
       " 'in',\n",
       " 'computer',\n",
       " 'science',\n",
       " 'that',\n",
       " 'develops',\n",
       " 'and',\n",
       " 'studies',\n",
       " 'methods',\n",
       " 'and',\n",
       " 'software',\n",
       " 'that',\n",
       " 'enable',\n",
       " 'machines',\n",
       " 'to',\n",
       " 'perceive',\n",
       " 'their',\n",
       " 'environment',\n",
       " 'and',\n",
       " 'uses',\n",
       " 'learning',\n",
       " 'and',\n",
       " 'intelligence',\n",
       " 'to',\n",
       " 'take',\n",
       " 'actions',\n",
       " 'that',\n",
       " 'maximize',\n",
       " 'their',\n",
       " 'chances',\n",
       " 'of',\n",
       " 'achieving',\n",
       " 'defined',\n",
       " 'goals',\n",
       " '.',\n",
       " '[',\n",
       " '1',\n",
       " ']',\n",
       " 'Such',\n",
       " 'machines',\n",
       " 'may',\n",
       " 'be',\n",
       " 'called',\n",
       " 'AIs',\n",
       " '.']"
      ]
     },
     "execution_count": 7,
     "metadata": {},
     "output_type": "execute_result"
    }
   ],
   "source": [
    "AI_tokens"
   ]
  },
  {
   "cell_type": "code",
   "execution_count": 8,
   "id": "c1302472",
   "metadata": {},
   "outputs": [
    {
     "data": {
      "text/plain": [
       "71"
      ]
     },
     "execution_count": 8,
     "metadata": {},
     "output_type": "execute_result"
    }
   ],
   "source": [
    "len(AI_tokens)"
   ]
  },
  {
   "cell_type": "code",
   "execution_count": 9,
   "id": "402ef018",
   "metadata": {},
   "outputs": [
    {
     "data": {
      "text/plain": [
       "['Artificial intelligence (AI), in its broadest sense, is intelligence exhibited by machines, particularly computer systems. It is a field of research in computer science that develops and studies methods and software that enable machines to perceive their environment and uses learning and intelligence to take actions that maximize their chances of achieving defined goals.[1] Such machines may be called AIs.']"
      ]
     },
     "execution_count": 9,
     "metadata": {},
     "output_type": "execute_result"
    }
   ],
   "source": [
    "from nltk.tokenize import blankline_tokenize\n",
    "AI_blankk=blankline_tokenize(AI)\n",
    "AI_blankk"
   ]
  },
  {
   "cell_type": "code",
   "execution_count": 10,
   "id": "f152450b",
   "metadata": {},
   "outputs": [
    {
     "data": {
      "text/plain": [
       "['Artificial',\n",
       " 'intelligence',\n",
       " '(',\n",
       " 'AI',\n",
       " '),',\n",
       " 'in',\n",
       " 'its',\n",
       " 'broadest',\n",
       " 'sense',\n",
       " ',',\n",
       " 'is',\n",
       " 'intelligence',\n",
       " 'exhibited',\n",
       " 'by',\n",
       " 'machines',\n",
       " ',',\n",
       " 'particularly',\n",
       " 'computer',\n",
       " 'systems',\n",
       " '.',\n",
       " 'It',\n",
       " 'is',\n",
       " 'a',\n",
       " 'field',\n",
       " 'of',\n",
       " 'research',\n",
       " 'in',\n",
       " 'computer',\n",
       " 'science',\n",
       " 'that',\n",
       " 'develops',\n",
       " 'and',\n",
       " 'studies',\n",
       " 'methods',\n",
       " 'and',\n",
       " 'software',\n",
       " 'that',\n",
       " 'enable',\n",
       " 'machines',\n",
       " 'to',\n",
       " 'perceive',\n",
       " 'their',\n",
       " 'environment',\n",
       " 'and',\n",
       " 'uses',\n",
       " 'learning',\n",
       " 'and',\n",
       " 'intelligence',\n",
       " 'to',\n",
       " 'take',\n",
       " 'actions',\n",
       " 'that',\n",
       " 'maximize',\n",
       " 'their',\n",
       " 'chances',\n",
       " 'of',\n",
       " 'achieving',\n",
       " 'defined',\n",
       " 'goals',\n",
       " '.[',\n",
       " '1',\n",
       " ']',\n",
       " 'Such',\n",
       " 'machines',\n",
       " 'may',\n",
       " 'be',\n",
       " 'called',\n",
       " 'AIs',\n",
       " '.']"
      ]
     },
     "execution_count": 10,
     "metadata": {},
     "output_type": "execute_result"
    }
   ],
   "source": [
    "from nltk.tokenize import wordpunct_tokenize\n",
    "word=wordpunct_tokenize(AI)\n",
    "word"
   ]
  },
  {
   "cell_type": "code",
   "execution_count": 11,
   "id": "3102c81d",
   "metadata": {},
   "outputs": [
    {
     "data": {
      "text/plain": [
       "[(0, 10),\n",
       " (11, 23),\n",
       " (24, 29),\n",
       " (30, 32),\n",
       " (33, 36),\n",
       " (37, 45),\n",
       " (46, 52),\n",
       " (53, 55),\n",
       " (56, 68),\n",
       " (69, 78),\n",
       " (79, 81),\n",
       " (82, 91),\n",
       " (92, 104),\n",
       " (105, 113),\n",
       " (114, 122),\n",
       " (123, 125),\n",
       " (126, 128),\n",
       " (129, 130),\n",
       " (131, 136),\n",
       " (137, 139),\n",
       " (140, 148),\n",
       " (149, 151),\n",
       " (152, 160),\n",
       " (161, 168),\n",
       " (169, 173),\n",
       " (174, 182),\n",
       " (183, 186),\n",
       " (187, 194),\n",
       " (195, 202),\n",
       " (203, 206),\n",
       " (207, 215),\n",
       " (216, 220),\n",
       " (221, 227),\n",
       " (228, 236),\n",
       " (237, 239),\n",
       " (240, 248),\n",
       " (249, 254),\n",
       " (255, 266),\n",
       " (267, 270),\n",
       " (271, 275),\n",
       " (276, 284),\n",
       " (285, 288),\n",
       " (289, 301),\n",
       " (302, 304),\n",
       " (305, 309),\n",
       " (310, 317),\n",
       " (318, 322),\n",
       " (323, 331),\n",
       " (332, 337),\n",
       " (338, 345),\n",
       " (346, 348),\n",
       " (349, 358),\n",
       " (359, 366),\n",
       " (367, 376),\n",
       " (377, 381),\n",
       " (382, 390),\n",
       " (391, 394),\n",
       " (395, 397),\n",
       " (398, 404),\n",
       " (405, 409)]"
      ]
     },
     "execution_count": 11,
     "metadata": {},
     "output_type": "execute_result"
    }
   ],
   "source": [
    "from nltk.tokenize import WhitespaceTokenizer\n",
    "list(WhitespaceTokenizer().span_tokenize(AI))"
   ]
  },
  {
   "cell_type": "code",
   "execution_count": null,
   "id": "4c1005f2",
   "metadata": {},
   "outputs": [],
   "source": []
  }
 ],
 "metadata": {
  "kernelspec": {
   "display_name": "Python 3 (ipykernel)",
   "language": "python",
   "name": "python3"
  },
  "language_info": {
   "codemirror_mode": {
    "name": "ipython",
    "version": 3
   },
   "file_extension": ".py",
   "mimetype": "text/x-python",
   "name": "python",
   "nbconvert_exporter": "python",
   "pygments_lexer": "ipython3",
   "version": "3.9.13"
  }
 },
 "nbformat": 4,
 "nbformat_minor": 5
}
