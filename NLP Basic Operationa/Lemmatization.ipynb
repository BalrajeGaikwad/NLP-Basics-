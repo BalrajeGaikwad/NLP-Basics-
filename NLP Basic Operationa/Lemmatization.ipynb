{
 "cells": [
  {
   "cell_type": "code",
   "execution_count": 11,
   "id": "65e6ff40",
   "metadata": {},
   "outputs": [],
   "source": [
    "import nltk\n",
    "from nltk.stem import wordnet\n",
    "from nltk.stem import WordNetLemmatizer\n",
    "word_len=WordNetLemmatizer()"
   ]
  },
  {
   "cell_type": "code",
   "execution_count": null,
   "id": "2f8c1bbc",
   "metadata": {},
   "outputs": [],
   "source": []
  },
  {
   "cell_type": "code",
   "execution_count": null,
   "id": "2ff7f185",
   "metadata": {},
   "outputs": [],
   "source": []
  },
  {
   "cell_type": "code",
   "execution_count": 13,
   "id": "e7b6a55e",
   "metadata": {},
   "outputs": [
    {
     "name": "stdout",
     "output_type": "stream",
     "text": [
      "corpus\n",
      "give:give\n",
      "giving:give\n",
      "gave:gave\n",
      "thinking:think\n",
      "loving:love\n",
      "finalize:final\n",
      "finally:final\n"
     ]
    }
   ],
   "source": [
    "from nltk.stem import WordNetLemmatizer\n",
    "from nltk.stem import PorterStemmer\n",
    "\n",
    "word_len = WordNetLemmatizer()\n",
    "word_stem = PorterStemmer()\n",
    "\n",
    "print(word_len.lemmatize('corpora'))  # Example of lemmatization\n",
    "\n",
    "word_to_stem = [\"give\", \"giving\", \"gave\", \"thinking\", \"loving\", \"finalize\", \"finally\"]\n",
    "\n",
    "for word in word_to_stem:\n",
    "    print(word + \":\" + word_stem.stem(word))  # Stemming each word in word_to_stem list\n"
   ]
  },
  {
   "cell_type": "code",
   "execution_count": null,
   "id": "014c4d10",
   "metadata": {},
   "outputs": [],
   "source": []
  }
 ],
 "metadata": {
  "kernelspec": {
   "display_name": "Python 3 (ipykernel)",
   "language": "python",
   "name": "python3"
  },
  "language_info": {
   "codemirror_mode": {
    "name": "ipython",
    "version": 3
   },
   "file_extension": ".py",
   "mimetype": "text/x-python",
   "name": "python",
   "nbconvert_exporter": "python",
   "pygments_lexer": "ipython3",
   "version": "3.9.13"
  }
 },
 "nbformat": 4,
 "nbformat_minor": 5
}
